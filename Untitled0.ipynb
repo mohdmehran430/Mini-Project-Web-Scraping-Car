{
  "nbformat": 4,
  "nbformat_minor": 0,
  "metadata": {
    "colab": {
      "provenance": []
    },
    "kernelspec": {
      "name": "python3",
      "display_name": "Python 3"
    },
    "language_info": {
      "name": "python"
    }
  },
  "cells": [
    {
      "cell_type": "code",
      "execution_count": 1,
      "metadata": {
        "id": "FZN2bjbBCpAB"
      },
      "outputs": [],
      "source": [
        "import pandas as pd\n",
        "from bs4 import BeautifulSoup\n",
        "import requests\n",
        "import re\n",
        ""
      ]
    },
    {
      "cell_type": "code",
      "source": [
        "# Getting a cars24_url to parse the html code\n",
        "toyota_url = 'https://www.cars24.com/buy-used-toyota-cars-mumbai/'\n",
        "HEADERS = ({'User-Agent':\"Mozilla/5.0 (Windows NT 10.0; Win64; x64) AppleWebKit/537.36 (KHTML, like Gecko) Chrome/123.0.0.0 Safari/537.36\",'Accept-Language': 'en-US, en;q=0.5'})\n",
        "response = requests.get(toyota_url, headers=HEADERS)\n",
        ""
      ],
      "metadata": {
        "id": "eHgciprluCDb"
      },
      "execution_count": 2,
      "outputs": []
    },
    {
      "cell_type": "code",
      "source": [
        "# using soup to get html code\n",
        "soup= BeautifulSoup(response.text, \"html.parser\")"
      ],
      "metadata": {
        "id": "UkqzkzbPubHj"
      },
      "execution_count": 3,
      "outputs": []
    },
    {
      "cell_type": "code",
      "source": [
        "soup.find_all('h1')[0].text"
      ],
      "metadata": {
        "colab": {
          "base_uri": "https://localhost:8080/",
          "height": 35
        },
        "id": "as356laJugDg",
        "outputId": "787c21a3-7ee6-41e5-c0cc-70deea10fc48"
      },
      "execution_count": 7,
      "outputs": [
        {
          "output_type": "execute_result",
          "data": {
            "text/plain": [
              "'87 Used Toyota cars in Mumbai'"
            ],
            "application/vnd.google.colaboratory.intrinsic+json": {
              "type": "string"
            }
          },
          "metadata": {},
          "execution_count": 7
        }
      ]
    },
    {
      "cell_type": "code",
      "source": [
        "cars_model = []\n",
        "for i in soup.find_all('span',class_='sc-braxZu kjFjan'):\n",
        "    print(i.text.strip())\n",
        "    cars_model.append(i.text)\n"
      ],
      "metadata": {
        "colab": {
          "base_uri": "https://localhost:8080/"
        },
        "collapsed": true,
        "id": "CSYLfOxVu7Q-",
        "outputId": "91240900-7e88-438c-c0ec-9c5819efe6ca"
      },
      "execution_count": 45,
      "outputs": [
        {
          "output_type": "stream",
          "name": "stdout",
          "text": [
            "2021 Toyota Camry\n",
            "2020 Toyota YARIS\n",
            "2015 Toyota Etios\n",
            "2017 Toyota Corolla Altis\n",
            "2014 Toyota Etios\n",
            "2021 Toyota URBAN CRUISER\n",
            "2018 Toyota YARIS\n",
            "2011 Toyota Innova\n",
            "2011 Toyota Etios\n",
            "2011 Toyota Etios\n",
            "2011 Toyota Etios\n",
            "2011 Toyota Etios\n",
            "2011 Toyota Etios\n",
            "2011 Toyota Etios\n",
            "2014 Toyota Corolla Altis\n",
            "2011 Toyota Etios\n",
            "2018 Toyota YARIS\n",
            "2013 Toyota Etios Liva\n",
            "2016 Toyota Innova Crysta\n",
            "2012 Toyota Etios\n"
          ]
        }
      ]
    },
    {
      "cell_type": "code",
      "source": [
        "\n",
        "# List of cars model\n",
        "cars_model\n",
        ""
      ],
      "metadata": {
        "colab": {
          "base_uri": "https://localhost:8080/"
        },
        "collapsed": true,
        "id": "f87oezkeBjm4",
        "outputId": "cb8d7864-3749-4975-8528-b2f70880a2e6"
      },
      "execution_count": 46,
      "outputs": [
        {
          "output_type": "execute_result",
          "data": {
            "text/plain": [
              "['2021 Toyota Camry',\n",
              " '2020 Toyota YARIS',\n",
              " '2015 Toyota Etios',\n",
              " '2017 Toyota Corolla Altis',\n",
              " '2014 Toyota Etios',\n",
              " '2021 Toyota URBAN CRUISER',\n",
              " '2018 Toyota YARIS',\n",
              " '2011 Toyota Innova',\n",
              " '2011 Toyota Etios',\n",
              " '2011 Toyota Etios',\n",
              " '2011 Toyota Etios',\n",
              " '2011 Toyota Etios',\n",
              " '2011 Toyota Etios',\n",
              " '2011 Toyota Etios',\n",
              " '2014 Toyota Corolla Altis',\n",
              " '2011 Toyota Etios',\n",
              " '2018 Toyota YARIS',\n",
              " '2013 Toyota Etios Liva',\n",
              " '2016 Toyota Innova Crysta',\n",
              " '2012 Toyota Etios']"
            ]
          },
          "metadata": {},
          "execution_count": 46
        }
      ]
    },
    {
      "cell_type": "code",
      "source": [
        "price = soup.find_all('p', class_='sc-braxZu cyPhJl')\n"
      ],
      "metadata": {
        "id": "WG84k-9NCUiB"
      },
      "execution_count": 47,
      "outputs": []
    },
    {
      "cell_type": "code",
      "source": [
        "# runing a for loop to get all car prices.\n",
        "price = [] # created a empty list to append all the cars prices\n",
        "for i in soup.find_all('p', class_='sc-braxZu cyPhJl'):\n",
        "  price.append(i.text)"
      ],
      "metadata": {
        "id": "8va8w18mCv67"
      },
      "execution_count": 48,
      "outputs": []
    },
    {
      "cell_type": "code",
      "source": [
        "# List of cars prices\n",
        "price\n",
        ""
      ],
      "metadata": {
        "colab": {
          "base_uri": "https://localhost:8080/"
        },
        "id": "LiaAbDjdDIjj",
        "outputId": "26d7dafe-46be-44d1-9504-cbcd4a759625"
      },
      "execution_count": 49,
      "outputs": [
        {
          "output_type": "execute_result",
          "data": {
            "text/plain": [
              "['Account ',\n",
              " '',\n",
              " '₹30.75 lakh',\n",
              " '₹6.10 lakh',\n",
              " '₹2.56 lakh',\n",
              " '₹6.40 lakh',\n",
              " '₹2.90 lakh',\n",
              " '₹7.20 lakh',\n",
              " '₹5.11 lakh',\n",
              " '₹3.59 lakh',\n",
              " '₹1.71 lakh',\n",
              " '₹1.74 lakh',\n",
              " '₹1.50 lakh',\n",
              " '₹2.06 lakh',\n",
              " '₹1.50 lakh',\n",
              " '₹1.65 lakh',\n",
              " '₹3.25 lakh',\n",
              " '₹1.21 lakh',\n",
              " '₹5.38 lakh',\n",
              " '₹2.07 lakh',\n",
              " '₹10.94 lakh',\n",
              " '₹1.70 lakh']"
            ]
          },
          "metadata": {},
          "execution_count": 49
        }
      ]
    },
    {
      "cell_type": "code",
      "source": [
        "km_run = soup.find_all('p',attrs = {'class': 'sc-braxZu kvfdZL'})"
      ],
      "metadata": {
        "id": "U3nXxPKDDazT"
      },
      "execution_count": 50,
      "outputs": []
    },
    {
      "cell_type": "code",
      "source": [
        "# created multiple loops for each iteration to append only the km text from the p tag\n",
        "km_runs = [] # empty list for appending km runs for each specific cars\n",
        "for i in soup.find_all('p', attrs={'class': 'sc-braxZu kvfdZL'}):\n",
        "    text = i.text\n",
        "    # Use a regular expression to find only the numerical value followed by 'km'\n",
        "    match = re.search(r'(\\d+(\\.\\d+)?k?L?)\\s*km', text)\n",
        "    if match:\n",
        "        km_value = match.group(1).replace('k', 'km') # Extract the matched kilometer value and replace 'k' with 'km'\n",
        "        km_runs.append(km_value)\n",
        "\n",
        "# Print the results\n",
        "for km in km_runs:\n",
        "    print(km)"
      ],
      "metadata": {
        "colab": {
          "base_uri": "https://localhost:8080/"
        },
        "id": "GK2K89QfD-w3",
        "outputId": "18509dc5-8a4b-4670-852f-353cfc378438"
      },
      "execution_count": 63,
      "outputs": [
        {
          "output_type": "stream",
          "name": "stdout",
          "text": [
            "39.75km\n",
            "35.25km\n",
            "34.53km\n",
            "26.93km\n",
            "93.72km\n",
            "52.14km\n",
            "62.36km\n",
            "1.6L\n",
            "59.29km\n",
            "1.1L\n",
            "98.28km\n",
            "48.41km\n",
            "63.92km\n",
            "76.00km\n",
            "78.49km\n",
            "1.4L\n",
            "24.30km\n",
            "45.95km\n",
            "1.2L\n",
            "1.2L\n"
          ]
        }
      ]
    },
    {
      "cell_type": "code",
      "source": [
        "fuel_type = soup.find_all('span',attrs = {'class': 'sc-braxZu lmmumg'})\n"
      ],
      "metadata": {
        "id": "QktfKIjXHD0K"
      },
      "execution_count": 69,
      "outputs": []
    },
    {
      "cell_type": "code",
      "metadata": {
        "colab": {
          "base_uri": "https://localhost:8080/"
        },
        "id": "737ed09d",
        "outputId": "4007bf56-08e6-4a49-8673-fea05f692659"
      },
      "source": [
        "fuel_type = soup.find_all('span',attrs = {'class': 'sc-braxZu lmmumg'})\n",
        "fuel_types = [] # empty list\n",
        "car_list = soup.find_all('span', attrs={'class': 'sc-braxZu lmmumg'})\n",
        "\n",
        "for car in car_list:\n",
        "    try:\n",
        "        fuel_type = car.find_all('li')[2].text.strip()\n",
        "        fuel_types.append(fuel_type)\n",
        "    except IndexError:\n",
        "        fuel_types.append('petrol')\n",
        "\n",
        "for fuel in fuel_types:\n",
        "    print(fuel)\n"
      ],
      "execution_count": 78,
      "outputs": [
        {
          "output_type": "stream",
          "name": "stdout",
          "text": [
            "petrol\n",
            "petrol\n",
            "petrol\n",
            "petrol\n",
            "petrol\n",
            "petrol\n",
            "petrol\n",
            "petrol\n",
            "petrol\n",
            "petrol\n",
            "petrol\n",
            "petrol\n",
            "petrol\n",
            "petrol\n",
            "petrol\n",
            "petrol\n",
            "petrol\n",
            "petrol\n",
            "petrol\n",
            "petrol\n"
          ]
        }
      ]
    },
    {
      "cell_type": "code",
      "source": [
        "car_type = soup.find_all('p',attrs = {'sc-braxZu kvfdZL'})[0].find_all('li')[4].text\n"
      ],
      "metadata": {
        "id": "WghvAkXvLkJm"
      },
      "execution_count": null,
      "outputs": []
    },
    {
      "cell_type": "code",
      "metadata": {
        "colab": {
          "base_uri": "https://localhost:8080/"
        },
        "id": "7000f68e",
        "outputId": "ba11fad9-23f1-46b1-e0c2-b4dd3626038f"
      },
      "source": [
        "# Find all the elements that contain car details\n",
        "car_details = soup.find_all('ul', class_='sc-eDvSVe jPeCpg')\n",
        "\n",
        "# Extract transmission for each car\n",
        "transmissions = []\n",
        "for car in car_details:\n",
        "    try:\n",
        "        # Assuming transmission is the fourth list item based on visual inspection\n",
        "        transmission = car.find_all('p')[3].text.strip()\n",
        "        transmissions.append(transmission)\n",
        "    except IndexError:\n",
        "        transmissions.append('N/A') # Append 'N/A' if transmission info is not found\n",
        "\n",
        "# Print the list of transmissions\n",
        "print(transmissions)"
      ],
      "execution_count": 87,
      "outputs": [
        {
          "output_type": "stream",
          "name": "stdout",
          "text": [
            "[]\n"
          ]
        }
      ]
    },
    {
      "cell_type": "code",
      "source": [
        "car_types"
      ],
      "metadata": {
        "colab": {
          "base_uri": "https://localhost:8080/"
        },
        "id": "s1CQCa09NeH8",
        "outputId": "123df9a8-ae26-4bed-ed7b-9c9ccab6864f"
      },
      "execution_count": 88,
      "outputs": [
        {
          "output_type": "execute_result",
          "data": {
            "text/plain": [
              "['Unknown',\n",
              " 'Unknown',\n",
              " 'Unknown',\n",
              " 'Unknown',\n",
              " 'Unknown',\n",
              " 'Unknown',\n",
              " 'Unknown',\n",
              " 'Unknown',\n",
              " 'Unknown',\n",
              " 'Unknown',\n",
              " 'Unknown',\n",
              " 'Unknown',\n",
              " 'Unknown',\n",
              " 'Unknown',\n",
              " 'Unknown',\n",
              " 'Unknown',\n",
              " 'Unknown',\n",
              " 'Unknown',\n",
              " 'Unknown',\n",
              " 'Unknown',\n",
              " 'Unknown',\n",
              " 'Unknown',\n",
              " 'Unknown',\n",
              " 'Unknown',\n",
              " 'Unknown',\n",
              " 'Unknown',\n",
              " 'Unknown',\n",
              " 'Unknown',\n",
              " 'Unknown',\n",
              " 'Unknown',\n",
              " 'Unknown',\n",
              " 'Unknown',\n",
              " 'Unknown',\n",
              " 'Unknown',\n",
              " 'Unknown',\n",
              " 'Unknown',\n",
              " 'Unknown',\n",
              " 'Unknown',\n",
              " 'Unknown',\n",
              " 'Unknown',\n",
              " 'Unknown',\n",
              " 'Unknown',\n",
              " 'Unknown',\n",
              " 'Unknown',\n",
              " 'Unknown',\n",
              " 'Unknown',\n",
              " 'Unknown',\n",
              " 'Unknown',\n",
              " 'Unknown',\n",
              " 'Unknown',\n",
              " 'Unknown',\n",
              " 'Unknown',\n",
              " 'Unknown',\n",
              " 'Unknown',\n",
              " 'Unknown',\n",
              " 'Unknown',\n",
              " 'Unknown',\n",
              " 'Unknown',\n",
              " 'Unknown',\n",
              " 'Unknown',\n",
              " 'Unknown',\n",
              " 'Unknown',\n",
              " 'Unknown',\n",
              " 'Unknown',\n",
              " 'Unknown',\n",
              " 'Unknown',\n",
              " 'Unknown',\n",
              " 'Unknown',\n",
              " 'Unknown',\n",
              " 'Unknown',\n",
              " 'Unknown',\n",
              " 'Unknown',\n",
              " 'Unknown',\n",
              " 'Unknown',\n",
              " 'Unknown',\n",
              " 'Unknown',\n",
              " 'Unknown',\n",
              " 'Unknown',\n",
              " 'Unknown',\n",
              " 'Unknown']"
            ]
          },
          "metadata": {},
          "execution_count": 88
        }
      ]
    }
  ]
}