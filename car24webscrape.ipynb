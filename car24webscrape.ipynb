{
  "nbformat": 4,
  "nbformat_minor": 0,
  "metadata": {
    "colab": {
      "provenance": []
    },
    "kernelspec": {
      "name": "python3",
      "display_name": "Python 3"
    },
    "language_info": {
      "name": "python"
    }
  },
  "cells": [
    {
      "cell_type": "code",
      "execution_count": 22,
      "metadata": {
        "id": "FZN2bjbBCpAB"
      },
      "outputs": [],
      "source": [
        "import pandas as pd\n",
        "from bs4 import BeautifulSoup\n",
        "import requests\n",
        "import re\n"
      ]
    },
    {
      "cell_type": "code",
      "source": [
        "# Getting a cars24_url to parse the html code\n",
        "toyota_url = 'https://www.cars24.com/buy-used-toyota-cars-mumbai/'\n",
        "HEADERS = ({'User-Agent':\"Mozilla/5.0 (Windows NT 10.0; Win64; x64) AppleWebKit/537.36 (KHTML, like Gecko) Chrome/123.0.0.0 Safari/537.36\",'Accept-Language': 'en-US, en;q=0.5'})\n",
        "response = requests.get(toyota_url, headers=HEADERS)\n"
      ],
      "metadata": {
        "id": "eHgciprluCDb"
      },
      "execution_count": 23,
      "outputs": []
    },
    {
      "cell_type": "code",
      "source": [
        "# using soup to get html code\n",
        "soup= BeautifulSoup(response.text, \"html.parser\")"
      ],
      "metadata": {
        "id": "UkqzkzbPubHj"
      },
      "execution_count": 24,
      "outputs": []
    },
    {
      "cell_type": "code",
      "source": [
        "soup.find_all('h1')[0].text"
      ],
      "metadata": {
        "colab": {
          "base_uri": "https://localhost:8080/",
          "height": 35
        },
        "id": "as356laJugDg",
        "outputId": "8f1d59e2-e5e4-4549-8e36-2588af994fda"
      },
      "execution_count": 25,
      "outputs": [
        {
          "output_type": "execute_result",
          "data": {
            "text/plain": [
              "'86 Used Toyota cars in Mumbai'"
            ],
            "application/vnd.google.colaboratory.intrinsic+json": {
              "type": "string"
            }
          },
          "metadata": {},
          "execution_count": 25
        }
      ]
    },
    {
      "cell_type": "markdown",
      "source": [
        "Task 1: Getting cars model & Year of Manufacture\n",
        "\n"
      ],
      "metadata": {
        "id": "jagKV0dz5Hyc"
      }
    },
    {
      "cell_type": "code",
      "source": [
        "cars_model = []\n",
        "for i in soup.find_all('span',class_='sc-braxZu kjFjan'):\n",
        "    print(i.text.strip())\n",
        "    cars_model.append(i.text)\n"
      ],
      "metadata": {
        "colab": {
          "base_uri": "https://localhost:8080/"
        },
        "collapsed": true,
        "id": "CSYLfOxVu7Q-",
        "outputId": "a3dd9e26-0228-45a2-d17c-961ffcc75f80"
      },
      "execution_count": 26,
      "outputs": [
        {
          "output_type": "stream",
          "name": "stdout",
          "text": [
            "2021 Toyota Camry\n",
            "2015 Toyota Etios\n",
            "2017 Toyota Corolla Altis\n",
            "2014 Toyota Etios\n",
            "2021 Toyota URBAN CRUISER\n",
            "2018 Toyota YARIS\n",
            "2011 Toyota Innova\n",
            "2011 Toyota Etios\n",
            "2011 Toyota Etios\n",
            "2011 Toyota Etios\n",
            "2011 Toyota Etios\n",
            "2011 Toyota Etios\n",
            "2011 Toyota Etios\n",
            "2014 Toyota Corolla Altis\n",
            "2011 Toyota Etios\n",
            "2018 Toyota YARIS\n",
            "2013 Toyota Etios Liva\n",
            "2016 Toyota Innova Crysta\n",
            "2012 Toyota Etios\n",
            "2013 Toyota Etios\n"
          ]
        }
      ]
    },
    {
      "cell_type": "code",
      "source": [
        "len(cars_model)"
      ],
      "metadata": {
        "colab": {
          "base_uri": "https://localhost:8080/"
        },
        "id": "dM74QDoM76sm",
        "outputId": "ceb480ca-dd80-4c2d-bd91-df87be1ab520"
      },
      "execution_count": 66,
      "outputs": [
        {
          "output_type": "execute_result",
          "data": {
            "text/plain": [
              "20"
            ]
          },
          "metadata": {},
          "execution_count": 66
        }
      ]
    },
    {
      "cell_type": "code",
      "source": [
        "cars_model"
      ],
      "metadata": {
        "colab": {
          "base_uri": "https://localhost:8080/"
        },
        "collapsed": true,
        "id": "f87oezkeBjm4",
        "outputId": "576edf69-cbe7-4044-8b37-9d25f09bbe64"
      },
      "execution_count": 39,
      "outputs": [
        {
          "output_type": "execute_result",
          "data": {
            "text/plain": [
              "['2021 Toyota Camry',\n",
              " '2015 Toyota Etios',\n",
              " '2017 Toyota Corolla Altis',\n",
              " '2014 Toyota Etios',\n",
              " '2021 Toyota URBAN CRUISER',\n",
              " '2018 Toyota YARIS',\n",
              " '2011 Toyota Innova',\n",
              " '2011 Toyota Etios',\n",
              " '2011 Toyota Etios',\n",
              " '2011 Toyota Etios',\n",
              " '2011 Toyota Etios',\n",
              " '2011 Toyota Etios',\n",
              " '2011 Toyota Etios',\n",
              " '2014 Toyota Corolla Altis',\n",
              " '2011 Toyota Etios',\n",
              " '2018 Toyota YARIS',\n",
              " '2013 Toyota Etios Liva',\n",
              " '2016 Toyota Innova Crysta',\n",
              " '2012 Toyota Etios',\n",
              " '2013 Toyota Etios']"
            ]
          },
          "metadata": {},
          "execution_count": 39
        }
      ]
    },
    {
      "cell_type": "markdown",
      "source": [
        "Task 2: Scraping cars prices"
      ],
      "metadata": {
        "id": "ewHCBkBw5cQD"
      }
    },
    {
      "cell_type": "code",
      "source": [
        "price = soup.find_all('p', class_='sc-braxZu cyPhJl')\n"
      ],
      "metadata": {
        "id": "WG84k-9NCUiB"
      },
      "execution_count": 40,
      "outputs": []
    },
    {
      "cell_type": "code",
      "source": [
        "len(price)"
      ],
      "metadata": {
        "colab": {
          "base_uri": "https://localhost:8080/"
        },
        "id": "yXOiSJBn7_AS",
        "outputId": "51c01163-1f68-4022-a53e-42d0f1f16f4a"
      },
      "execution_count": 67,
      "outputs": [
        {
          "output_type": "execute_result",
          "data": {
            "text/plain": [
              "22"
            ]
          },
          "metadata": {},
          "execution_count": 67
        }
      ]
    },
    {
      "cell_type": "code",
      "source": [
        "# runing a for loop to get all car prices.\n",
        "price = [] # created a empty list to append all the cars prices\n",
        "for i in soup.find_all('p', class_='sc-braxZu cyPhJl'):\n",
        "  # Only append if the text is not empty and does not contain 'Account'\n",
        "  if i.text.strip() and 'Account' not in i.text:\n",
        "    price.append(i.text)"
      ],
      "metadata": {
        "id": "8va8w18mCv67"
      },
      "execution_count": 124,
      "outputs": []
    },
    {
      "cell_type": "code",
      "source": [
        "# List of cars prices\n",
        "price\n"
      ],
      "metadata": {
        "colab": {
          "base_uri": "https://localhost:8080/"
        },
        "id": "LiaAbDjdDIjj",
        "outputId": "b39cb535-eb28-414b-aa47-965068bf5af5"
      },
      "execution_count": 43,
      "outputs": [
        {
          "output_type": "execute_result",
          "data": {
            "text/plain": [
              "['Account ',\n",
              " '',\n",
              " '₹30.75 lakh',\n",
              " '₹2.56 lakh',\n",
              " '₹6.40 lakh',\n",
              " '₹2.90 lakh',\n",
              " '₹7.20 lakh',\n",
              " '₹5.11 lakh',\n",
              " '₹3.59 lakh',\n",
              " '₹1.71 lakh',\n",
              " '₹1.74 lakh',\n",
              " '₹1.50 lakh',\n",
              " '₹2.06 lakh',\n",
              " '₹1.50 lakh',\n",
              " '₹1.65 lakh',\n",
              " '₹3.25 lakh',\n",
              " '₹1.21 lakh',\n",
              " '₹5.38 lakh',\n",
              " '₹2.07 lakh',\n",
              " '₹10.94 lakh',\n",
              " '₹1.70 lakh',\n",
              " '₹2.34 lakh']"
            ]
          },
          "metadata": {},
          "execution_count": 43
        }
      ]
    },
    {
      "cell_type": "markdown",
      "source": [
        "Task3 :Kilometers Driven\n",
        "\n"
      ],
      "metadata": {
        "id": "k0gc9a0M5q0K"
      }
    },
    {
      "cell_type": "code",
      "source": [
        "km_run = soup.find_all('p',attrs = {'class': 'sc-braxZu kvfdZL'})"
      ],
      "metadata": {
        "id": "U3nXxPKDDazT"
      },
      "execution_count": 64,
      "outputs": []
    },
    {
      "cell_type": "code",
      "source": [
        "len(km_run)"
      ],
      "metadata": {
        "colab": {
          "base_uri": "https://localhost:8080/"
        },
        "id": "-zdPSj0y701D",
        "outputId": "daadeb96-37f9-4da0-c46a-7e9b35ebfcb5"
      },
      "execution_count": 65,
      "outputs": [
        {
          "output_type": "execute_result",
          "data": {
            "text/plain": [
              "80"
            ]
          },
          "metadata": {},
          "execution_count": 65
        }
      ]
    },
    {
      "cell_type": "code",
      "source": [
        "# created multiple loops for each iteration to append only the km text from the p tag\n",
        "km_runs = [] # empty list for appending km runs for each specific cars\n",
        "for i in soup.find_all('p', attrs={'class': 'sc-braxZu kvfdZL'}):\n",
        "    text = i.text\n",
        "    # Use a regular expression to find only the numerical value followed by 'km'\n",
        "    match = re.search(r'(\\d+(\\.\\d+)?k?L?)\\s*km', text)\n",
        "    if match:\n",
        "        km_value = match.group(1).replace('k', 'km') # Extract the matched kilometer value and replace 'k' with 'km'\n",
        "        km_runs.append(km_value)\n",
        "\n",
        "# Print the results\n",
        "for km in km_runs:\n",
        "    print(km)"
      ],
      "metadata": {
        "colab": {
          "base_uri": "https://localhost:8080/"
        },
        "id": "GK2K89QfD-w3",
        "outputId": "6706e97e-7971-4093-d5bd-a5f5c7b5c8f9"
      },
      "execution_count": 45,
      "outputs": [
        {
          "output_type": "stream",
          "name": "stdout",
          "text": [
            "39.75km\n",
            "34.53km\n",
            "26.93km\n",
            "93.72km\n",
            "52.14km\n",
            "62.36km\n",
            "1.6L\n",
            "59.29km\n",
            "1.1L\n",
            "98.28km\n",
            "48.41km\n",
            "63.92km\n",
            "76.00km\n",
            "78.49km\n",
            "1.4L\n",
            "24.30km\n",
            "45.95km\n",
            "1.2L\n",
            "1.2L\n",
            "70.52km\n"
          ]
        }
      ]
    },
    {
      "cell_type": "markdown",
      "source": [
        "Task 4: Getting types of cars based on fuel types"
      ],
      "metadata": {
        "id": "UQK4zBb555lm"
      }
    },
    {
      "cell_type": "code",
      "source": [
        "fuel_types = soup.find_all('p',attrs = {'class': 'sc-braxZu kvfdZL'})\n"
      ],
      "metadata": {
        "id": "QktfKIjXHD0K"
      },
      "execution_count": 100,
      "outputs": []
    },
    {
      "cell_type": "code",
      "metadata": {
        "colab": {
          "base_uri": "https://localhost:8080/"
        },
        "id": "737ed09d",
        "outputId": "ce30ed72-dba0-43c7-c4a2-a9a7f0b1b7f1"
      },
      "source": [
        "fuel_type = soup.find_all('span',attrs = {'class': 'sc-braxZu lmmumg'})\n",
        "fuel_types = [] # empty list\n",
        "car_list = soup.find_all('span', attrs={'class': 'sc-braxZu lmmumg'})\n",
        "\n",
        "for car in car_list:\n",
        "    try:\n",
        "        fuel_type = car.find_all('li')[2].text.strip()\n",
        "        fuel_types.append(fuel_type)\n",
        "    except IndexError:\n",
        "        fuel_types.append('petrol')\n",
        "\n",
        "for fuel in fuel_types:\n",
        "    print(fuel)\n"
      ],
      "execution_count": 126,
      "outputs": [
        {
          "output_type": "stream",
          "name": "stdout",
          "text": [
            "petrol\n",
            "petrol\n",
            "petrol\n",
            "petrol\n",
            "petrol\n",
            "petrol\n",
            "petrol\n",
            "petrol\n",
            "petrol\n",
            "petrol\n",
            "petrol\n",
            "petrol\n",
            "petrol\n",
            "petrol\n",
            "petrol\n",
            "petrol\n",
            "petrol\n",
            "petrol\n",
            "petrol\n",
            "petrol\n"
          ]
        }
      ]
    },
    {
      "cell_type": "markdown",
      "source": [
        "Task 5 : Transmission\n",
        "\n"
      ],
      "metadata": {
        "id": "oOFtnAIK94r1"
      }
    },
    {
      "cell_type": "code",
      "source": [
        "fuel_type = soup.find_all('span',attrs = {'class': 'sc-braxZu lmmumg'})\n"
      ],
      "metadata": {
        "id": "D1jMfqVwAOIn"
      },
      "execution_count": 116,
      "outputs": []
    },
    {
      "cell_type": "code",
      "source": [
        "car_types = [] # empty list for appending car type based on gear system\n",
        "car_list = soup.find_all('ul', attrs={'class': '_3J2G-'})\n",
        "\n",
        "for car in car_list:\n",
        "    try:\n",
        "        car_type = car.find_all('li')[4].text.strip()\n",
        "        car_types.append(car_type)\n",
        "    except IndexError:\n",
        "        car_types.append('Unknown')"
      ],
      "metadata": {
        "collapsed": true,
        "id": "F654xfI4-EqK"
      },
      "execution_count": 121,
      "outputs": []
    },
    {
      "cell_type": "markdown",
      "source": [
        "First View of Dataset\n",
        "\n"
      ],
      "metadata": {
        "id": "uqAoepP5JxCa"
      }
    },
    {
      "cell_type": "code",
      "metadata": {
        "colab": {
          "base_uri": "https://localhost:8080/",
          "height": 247
        },
        "id": "7683aee6",
        "outputId": "9eb21754-cd4e-4113-910e-d28d975ef27a"
      },
      "source": [
        "# Create a dictionary from the extracted lists\n",
        "car_data = {\n",
        "    'Model': cars_model,\n",
        "    'Price': price,\n",
        "    'Kilometers Run': km_runs,\n",
        "    'Fuel Type': fuel_types,\n",
        "\n",
        "}\n",
        "\n",
        "# Create a pandas DataFrame\n",
        "car_df = pd.DataFrame(car_data)\n",
        "\n",
        "# Display the head of the DataFrame\n",
        "display(car_df.head())"
      ],
      "execution_count": 128,
      "outputs": [
        {
          "output_type": "display_data",
          "data": {
            "text/plain": [
              "                       Model        Price Kilometers Run Fuel Type\n",
              "0          2021 Toyota Camry  ₹30.75 lakh        39.75km    petrol\n",
              "1          2015 Toyota Etios   ₹2.56 lakh        34.53km    petrol\n",
              "2  2017 Toyota Corolla Altis   ₹6.40 lakh        26.93km    petrol\n",
              "3          2014 Toyota Etios   ₹2.90 lakh        93.72km    petrol\n",
              "4  2021 Toyota URBAN CRUISER   ₹7.20 lakh        52.14km    petrol"
            ],
            "text/html": [
              "\n",
              "  <div id=\"df-1cbb6ae0-8606-4ed9-801f-4ca0cd699679\" class=\"colab-df-container\">\n",
              "    <div>\n",
              "<style scoped>\n",
              "    .dataframe tbody tr th:only-of-type {\n",
              "        vertical-align: middle;\n",
              "    }\n",
              "\n",
              "    .dataframe tbody tr th {\n",
              "        vertical-align: top;\n",
              "    }\n",
              "\n",
              "    .dataframe thead th {\n",
              "        text-align: right;\n",
              "    }\n",
              "</style>\n",
              "<table border=\"1\" class=\"dataframe\">\n",
              "  <thead>\n",
              "    <tr style=\"text-align: right;\">\n",
              "      <th></th>\n",
              "      <th>Model</th>\n",
              "      <th>Price</th>\n",
              "      <th>Kilometers Run</th>\n",
              "      <th>Fuel Type</th>\n",
              "    </tr>\n",
              "  </thead>\n",
              "  <tbody>\n",
              "    <tr>\n",
              "      <th>0</th>\n",
              "      <td>2021 Toyota Camry</td>\n",
              "      <td>₹30.75 lakh</td>\n",
              "      <td>39.75km</td>\n",
              "      <td>petrol</td>\n",
              "    </tr>\n",
              "    <tr>\n",
              "      <th>1</th>\n",
              "      <td>2015 Toyota Etios</td>\n",
              "      <td>₹2.56 lakh</td>\n",
              "      <td>34.53km</td>\n",
              "      <td>petrol</td>\n",
              "    </tr>\n",
              "    <tr>\n",
              "      <th>2</th>\n",
              "      <td>2017 Toyota Corolla Altis</td>\n",
              "      <td>₹6.40 lakh</td>\n",
              "      <td>26.93km</td>\n",
              "      <td>petrol</td>\n",
              "    </tr>\n",
              "    <tr>\n",
              "      <th>3</th>\n",
              "      <td>2014 Toyota Etios</td>\n",
              "      <td>₹2.90 lakh</td>\n",
              "      <td>93.72km</td>\n",
              "      <td>petrol</td>\n",
              "    </tr>\n",
              "    <tr>\n",
              "      <th>4</th>\n",
              "      <td>2021 Toyota URBAN CRUISER</td>\n",
              "      <td>₹7.20 lakh</td>\n",
              "      <td>52.14km</td>\n",
              "      <td>petrol</td>\n",
              "    </tr>\n",
              "  </tbody>\n",
              "</table>\n",
              "</div>\n",
              "    <div class=\"colab-df-buttons\">\n",
              "\n",
              "  <div class=\"colab-df-container\">\n",
              "    <button class=\"colab-df-convert\" onclick=\"convertToInteractive('df-1cbb6ae0-8606-4ed9-801f-4ca0cd699679')\"\n",
              "            title=\"Convert this dataframe to an interactive table.\"\n",
              "            style=\"display:none;\">\n",
              "\n",
              "  <svg xmlns=\"http://www.w3.org/2000/svg\" height=\"24px\" viewBox=\"0 -960 960 960\">\n",
              "    <path d=\"M120-120v-720h720v720H120Zm60-500h600v-160H180v160Zm220 220h160v-160H400v160Zm0 220h160v-160H400v160ZM180-400h160v-160H180v160Zm440 0h160v-160H620v160ZM180-180h160v-160H180v160Zm440 0h160v-160H620v160Z\"/>\n",
              "  </svg>\n",
              "    </button>\n",
              "\n",
              "  <style>\n",
              "    .colab-df-container {\n",
              "      display:flex;\n",
              "      gap: 12px;\n",
              "    }\n",
              "\n",
              "    .colab-df-convert {\n",
              "      background-color: #E8F0FE;\n",
              "      border: none;\n",
              "      border-radius: 50%;\n",
              "      cursor: pointer;\n",
              "      display: none;\n",
              "      fill: #1967D2;\n",
              "      height: 32px;\n",
              "      padding: 0 0 0 0;\n",
              "      width: 32px;\n",
              "    }\n",
              "\n",
              "    .colab-df-convert:hover {\n",
              "      background-color: #E2EBFA;\n",
              "      box-shadow: 0px 1px 2px rgba(60, 64, 67, 0.3), 0px 1px 3px 1px rgba(60, 64, 67, 0.15);\n",
              "      fill: #174EA6;\n",
              "    }\n",
              "\n",
              "    .colab-df-buttons div {\n",
              "      margin-bottom: 4px;\n",
              "    }\n",
              "\n",
              "    [theme=dark] .colab-df-convert {\n",
              "      background-color: #3B4455;\n",
              "      fill: #D2E3FC;\n",
              "    }\n",
              "\n",
              "    [theme=dark] .colab-df-convert:hover {\n",
              "      background-color: #434B5C;\n",
              "      box-shadow: 0px 1px 3px 1px rgba(0, 0, 0, 0.15);\n",
              "      filter: drop-shadow(0px 1px 2px rgba(0, 0, 0, 0.3));\n",
              "      fill: #FFFFFF;\n",
              "    }\n",
              "  </style>\n",
              "\n",
              "    <script>\n",
              "      const buttonEl =\n",
              "        document.querySelector('#df-1cbb6ae0-8606-4ed9-801f-4ca0cd699679 button.colab-df-convert');\n",
              "      buttonEl.style.display =\n",
              "        google.colab.kernel.accessAllowed ? 'block' : 'none';\n",
              "\n",
              "      async function convertToInteractive(key) {\n",
              "        const element = document.querySelector('#df-1cbb6ae0-8606-4ed9-801f-4ca0cd699679');\n",
              "        const dataTable =\n",
              "          await google.colab.kernel.invokeFunction('convertToInteractive',\n",
              "                                                    [key], {});\n",
              "        if (!dataTable) return;\n",
              "\n",
              "        const docLinkHtml = 'Like what you see? Visit the ' +\n",
              "          '<a target=\"_blank\" href=https://colab.research.google.com/notebooks/data_table.ipynb>data table notebook</a>'\n",
              "          + ' to learn more about interactive tables.';\n",
              "        element.innerHTML = '';\n",
              "        dataTable['output_type'] = 'display_data';\n",
              "        await google.colab.output.renderOutput(dataTable, element);\n",
              "        const docLink = document.createElement('div');\n",
              "        docLink.innerHTML = docLinkHtml;\n",
              "        element.appendChild(docLink);\n",
              "      }\n",
              "    </script>\n",
              "  </div>\n",
              "\n",
              "\n",
              "    <div id=\"df-0b9f8e71-ba29-4136-88fc-a7f3d130b599\">\n",
              "      <button class=\"colab-df-quickchart\" onclick=\"quickchart('df-0b9f8e71-ba29-4136-88fc-a7f3d130b599')\"\n",
              "                title=\"Suggest charts\"\n",
              "                style=\"display:none;\">\n",
              "\n",
              "<svg xmlns=\"http://www.w3.org/2000/svg\" height=\"24px\"viewBox=\"0 0 24 24\"\n",
              "     width=\"24px\">\n",
              "    <g>\n",
              "        <path d=\"M19 3H5c-1.1 0-2 .9-2 2v14c0 1.1.9 2 2 2h14c1.1 0 2-.9 2-2V5c0-1.1-.9-2-2-2zM9 17H7v-7h2v7zm4 0h-2V7h2v10zm4 0h-2v-4h2v4z\"/>\n",
              "    </g>\n",
              "</svg>\n",
              "      </button>\n",
              "\n",
              "<style>\n",
              "  .colab-df-quickchart {\n",
              "      --bg-color: #E8F0FE;\n",
              "      --fill-color: #1967D2;\n",
              "      --hover-bg-color: #E2EBFA;\n",
              "      --hover-fill-color: #174EA6;\n",
              "      --disabled-fill-color: #AAA;\n",
              "      --disabled-bg-color: #DDD;\n",
              "  }\n",
              "\n",
              "  [theme=dark] .colab-df-quickchart {\n",
              "      --bg-color: #3B4455;\n",
              "      --fill-color: #D2E3FC;\n",
              "      --hover-bg-color: #434B5C;\n",
              "      --hover-fill-color: #FFFFFF;\n",
              "      --disabled-bg-color: #3B4455;\n",
              "      --disabled-fill-color: #666;\n",
              "  }\n",
              "\n",
              "  .colab-df-quickchart {\n",
              "    background-color: var(--bg-color);\n",
              "    border: none;\n",
              "    border-radius: 50%;\n",
              "    cursor: pointer;\n",
              "    display: none;\n",
              "    fill: var(--fill-color);\n",
              "    height: 32px;\n",
              "    padding: 0;\n",
              "    width: 32px;\n",
              "  }\n",
              "\n",
              "  .colab-df-quickchart:hover {\n",
              "    background-color: var(--hover-bg-color);\n",
              "    box-shadow: 0 1px 2px rgba(60, 64, 67, 0.3), 0 1px 3px 1px rgba(60, 64, 67, 0.15);\n",
              "    fill: var(--button-hover-fill-color);\n",
              "  }\n",
              "\n",
              "  .colab-df-quickchart-complete:disabled,\n",
              "  .colab-df-quickchart-complete:disabled:hover {\n",
              "    background-color: var(--disabled-bg-color);\n",
              "    fill: var(--disabled-fill-color);\n",
              "    box-shadow: none;\n",
              "  }\n",
              "\n",
              "  .colab-df-spinner {\n",
              "    border: 2px solid var(--fill-color);\n",
              "    border-color: transparent;\n",
              "    border-bottom-color: var(--fill-color);\n",
              "    animation:\n",
              "      spin 1s steps(1) infinite;\n",
              "  }\n",
              "\n",
              "  @keyframes spin {\n",
              "    0% {\n",
              "      border-color: transparent;\n",
              "      border-bottom-color: var(--fill-color);\n",
              "      border-left-color: var(--fill-color);\n",
              "    }\n",
              "    20% {\n",
              "      border-color: transparent;\n",
              "      border-left-color: var(--fill-color);\n",
              "      border-top-color: var(--fill-color);\n",
              "    }\n",
              "    30% {\n",
              "      border-color: transparent;\n",
              "      border-left-color: var(--fill-color);\n",
              "      border-top-color: var(--fill-color);\n",
              "      border-right-color: var(--fill-color);\n",
              "    }\n",
              "    40% {\n",
              "      border-color: transparent;\n",
              "      border-right-color: var(--fill-color);\n",
              "      border-top-color: var(--fill-color);\n",
              "    }\n",
              "    60% {\n",
              "      border-color: transparent;\n",
              "      border-right-color: var(--fill-color);\n",
              "    }\n",
              "    80% {\n",
              "      border-color: transparent;\n",
              "      border-right-color: var(--fill-color);\n",
              "      border-bottom-color: var(--fill-color);\n",
              "    }\n",
              "    90% {\n",
              "      border-color: transparent;\n",
              "      border-bottom-color: var(--fill-color);\n",
              "    }\n",
              "  }\n",
              "</style>\n",
              "\n",
              "      <script>\n",
              "        async function quickchart(key) {\n",
              "          const quickchartButtonEl =\n",
              "            document.querySelector('#' + key + ' button');\n",
              "          quickchartButtonEl.disabled = true;  // To prevent multiple clicks.\n",
              "          quickchartButtonEl.classList.add('colab-df-spinner');\n",
              "          try {\n",
              "            const charts = await google.colab.kernel.invokeFunction(\n",
              "                'suggestCharts', [key], {});\n",
              "          } catch (error) {\n",
              "            console.error('Error during call to suggestCharts:', error);\n",
              "          }\n",
              "          quickchartButtonEl.classList.remove('colab-df-spinner');\n",
              "          quickchartButtonEl.classList.add('colab-df-quickchart-complete');\n",
              "        }\n",
              "        (() => {\n",
              "          let quickchartButtonEl =\n",
              "            document.querySelector('#df-0b9f8e71-ba29-4136-88fc-a7f3d130b599 button');\n",
              "          quickchartButtonEl.style.display =\n",
              "            google.colab.kernel.accessAllowed ? 'block' : 'none';\n",
              "        })();\n",
              "      </script>\n",
              "    </div>\n",
              "\n",
              "    </div>\n",
              "  </div>\n"
            ],
            "application/vnd.google.colaboratory.intrinsic+json": {
              "type": "dataframe",
              "summary": "{\n  \"name\": \"display(car_df\",\n  \"rows\": 5,\n  \"fields\": [\n    {\n      \"column\": \"Model\",\n      \"properties\": {\n        \"dtype\": \"string\",\n        \"num_unique_values\": 5,\n        \"samples\": [\n          \"2015 Toyota Etios\",\n          \"2021 Toyota URBAN CRUISER\",\n          \"2017 Toyota Corolla Altis\"\n        ],\n        \"semantic_type\": \"\",\n        \"description\": \"\"\n      }\n    },\n    {\n      \"column\": \"Price\",\n      \"properties\": {\n        \"dtype\": \"string\",\n        \"num_unique_values\": 5,\n        \"samples\": [\n          \"\\u20b92.56 lakh\",\n          \"\\u20b97.20 lakh\",\n          \"\\u20b96.40 lakh\"\n        ],\n        \"semantic_type\": \"\",\n        \"description\": \"\"\n      }\n    },\n    {\n      \"column\": \"Kilometers Run\",\n      \"properties\": {\n        \"dtype\": \"string\",\n        \"num_unique_values\": 5,\n        \"samples\": [\n          \"34.53km\",\n          \"52.14km\",\n          \"26.93km\"\n        ],\n        \"semantic_type\": \"\",\n        \"description\": \"\"\n      }\n    },\n    {\n      \"column\": \"Fuel Type\",\n      \"properties\": {\n        \"dtype\": \"category\",\n        \"num_unique_values\": 1,\n        \"samples\": [\n          \"petrol\"\n        ],\n        \"semantic_type\": \"\",\n        \"description\": \"\"\n      }\n    }\n  ]\n}"
            }
          },
          "metadata": {}
        }
      ]
    }
  ]
}